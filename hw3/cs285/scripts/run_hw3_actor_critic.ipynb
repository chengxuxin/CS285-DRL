{
  "nbformat": 4,
  "nbformat_minor": 0,
  "metadata": {
    "colab": {
      "name": "run_hw3_actor_critic.ipynb",
      "provenance": [],
      "collapsed_sections": [],
      "toc_visible": true
    },
    "kernelspec": {
      "name": "python3",
      "display_name": "Python 3"
    },
    "accelerator": "GPU"
  },
  "cells": [
    {
      "cell_type": "markdown",
      "metadata": {
        "id": "gUl_qfOR8JV6"
      },
      "source": [
        "##Setup\n",
        "\n",
        "You will need to make a copy of this notebook in your Google Drive before you can edit the homework files. You can do so with **File &rarr; Save a copy in Drive**."
      ]
    },
    {
      "cell_type": "code",
      "metadata": {
        "id": "iizPcHAp8LnA",
        "cellView": "form"
      },
      "source": [
        "#@title mount your Google Drive\n",
        "#@markdown Your work will be stored in a folder called `cs285_f2020` by default to prevent Colab instance timeouts from deleting your edits.\n",
        "\n",
        "import os\n",
        "from google.colab import drive\n",
        "drive.mount('/content/gdrive')"
      ],
      "execution_count": null,
      "outputs": []
    },
    {
      "cell_type": "code",
      "metadata": {
        "id": "nAb10wnb8N0m",
        "cellView": "form"
      },
      "source": [
        "#@title set up mount symlink\n",
        "\n",
        "DRIVE_PATH = '/content/gdrive/My\\ Drive/cs285_f2020'\n",
        "DRIVE_PYTHON_PATH = DRIVE_PATH.replace('\\\\', '')\n",
        "if not os.path.exists(DRIVE_PYTHON_PATH):\n",
        "  %mkdir $DRIVE_PATH\n",
        "\n",
        "## the space in `My Drive` causes some issues,\n",
        "## make a symlink to avoid this\n",
        "SYM_PATH = '/content/cs285_f2020'\n",
        "if not os.path.exists(SYM_PATH):\n",
        "  !ln -s $DRIVE_PATH $SYM_PATH"
      ],
      "execution_count": null,
      "outputs": []
    },
    {
      "cell_type": "code",
      "metadata": {
        "id": "gtS9-WsD8QVr",
        "cellView": "form"
      },
      "source": [
        "#@title apt install requirements\n",
        "\n",
        "#@markdown Run each section with Shift+Enter\n",
        "\n",
        "#@markdown Double-click on section headers to show code.\n",
        "\n",
        "!apt update \n",
        "!apt install -y --no-install-recommends \\\n",
        "        build-essential \\\n",
        "        curl \\\n",
        "        git \\\n",
        "        gnupg2 \\\n",
        "        make \\\n",
        "        cmake \\\n",
        "        ffmpeg \\\n",
        "        swig \\\n",
        "        libz-dev \\\n",
        "        unzip \\\n",
        "        zlib1g-dev \\\n",
        "        libglfw3 \\\n",
        "        libglfw3-dev \\\n",
        "        libxrandr2 \\\n",
        "        libxinerama-dev \\\n",
        "        libxi6 \\\n",
        "        libxcursor-dev \\\n",
        "        libgl1-mesa-dev \\\n",
        "        libgl1-mesa-glx \\\n",
        "        libglew-dev \\\n",
        "        libosmesa6-dev \\\n",
        "        lsb-release \\\n",
        "        ack-grep \\\n",
        "        patchelf \\\n",
        "        wget \\\n",
        "        xpra \\\n",
        "        xserver-xorg-dev \\\n",
        "        xvfb \\\n",
        "        python-opengl \\\n",
        "        ffmpeg > /dev/null 2>&1\n",
        "\n",
        "!pip install opencv-python==3.4.0.12"
      ],
      "execution_count": null,
      "outputs": []
    },
    {
      "cell_type": "code",
      "metadata": {
        "id": "VcKGekJN80NO",
        "cellView": "form"
      },
      "source": [
        "#@title download mujoco\n",
        "\n",
        "MJC_PATH = '{}/mujoco'.format(SYM_PATH)\n",
        "if not os.path.exists(MJC_PATH):\n",
        "  %mkdir $MJC_PATH\n",
        "%cd $MJC_PATH\n",
        "if not os.path.exists(os.path.join(MJC_PATH, 'mujoco200')):\n",
        "  !wget -q https://www.roboti.us/download/mujoco200_linux.zip\n",
        "  !unzip -q mujoco200_linux.zip\n",
        "  %mv mujoco200_linux mujoco200\n",
        "  %rm mujoco200_linux.zip"
      ],
      "execution_count": null,
      "outputs": []
    },
    {
      "cell_type": "code",
      "metadata": {
        "id": "NTiH9f9y82F_",
        "cellView": "form"
      },
      "source": [
        "#@title update mujoco paths\n",
        "\n",
        "import os\n",
        "\n",
        "os.environ['LD_LIBRARY_PATH'] += ':{}/mujoco200/bin'.format(MJC_PATH)\n",
        "os.environ['MUJOCO_PY_MUJOCO_PATH'] = '{}/mujoco200'.format(MJC_PATH)\n",
        "os.environ['MUJOCO_PY_MJKEY_PATH'] = '{}/mjkey.txt'.format(MJC_PATH)\n",
        "\n",
        "## installation on colab does not find *.so files\n",
        "## in LD_LIBRARY_PATH, copy over manually instead\n",
        "!cp $MJC_PATH/mujoco200/bin/*.so /usr/lib/x86_64-linux-gnu/"
      ],
      "execution_count": null,
      "outputs": []
    },
    {
      "cell_type": "markdown",
      "metadata": {
        "id": "A0kPh99l87q0"
      },
      "source": [
        "Ensure your `mjkey.txt` is in /content/cs285_f2020/mujoco before this step"
      ]
    },
    {
      "cell_type": "code",
      "metadata": {
        "id": "X-LoOdZg84pI",
        "cellView": "form"
      },
      "source": [
        "#@title clone and install mujoco-py\n",
        "\n",
        "%cd $MJC_PATH\n",
        "if not os.path.exists('mujoco-py'):\n",
        "  !git clone https://github.com/openai/mujoco-py.git\n",
        "%cd mujoco-py\n",
        "%pip install -e .\n",
        "\n",
        "## cythonize at the first import\n",
        "import mujoco_py"
      ],
      "execution_count": null,
      "outputs": []
    },
    {
      "cell_type": "code",
      "metadata": {
        "id": "-XcwBiBN8-Fg",
        "cellView": "form"
      },
      "source": [
        "#@title clone homework repo\n",
        "#@markdown Note that this is the same codebase from homework 1,\n",
        "#@markdown so you may need to move your old `homework_fall2020`\n",
        "#@markdown folder in order to clone the repo again.\n",
        "\n",
        "#@markdown **Don't delete your old work though!**\n",
        "#@markdown You will need it for this assignment.\n",
        "\n",
        "%cd $SYM_PATH\n",
        "!git clone https://github.com/berkeleydeeprlcourse/homework_fall2020.git\n",
        "\n",
        "%cd homework_fall2020/hw3\n",
        "%pip install -r requirements_colab.txt -f https://download.pytorch.org/whl/torch_stable.html\n",
        "%pip install -e ."
      ],
      "execution_count": null,
      "outputs": []
    },
    {
      "cell_type": "code",
      "metadata": {
        "id": "g5xIOIpW8_jC",
        "cellView": "both"
      },
      "source": [
        "#@title set up virtual display\n",
        "\n",
        "from pyvirtualdisplay import Display\n",
        "\n",
        "display = Display(visible=0, size=(1400, 900))\n",
        "display.start()\n",
        "\n",
        "# For later\n",
        "from cs285.infrastructure.colab_utils import (\n",
        "    wrap_env,\n",
        "    show_video\n",
        ")"
      ],
      "execution_count": null,
      "outputs": []
    },
    {
      "cell_type": "code",
      "metadata": {
        "id": "2rsWAWaK9BVp",
        "cellView": "both"
      },
      "source": [
        "#@title test virtual display\n",
        "\n",
        "#@markdown If you see a video of a four-legged ant fumbling about, setup is complete!\n",
        "\n",
        "import gym\n",
        "import matplotlib\n",
        "matplotlib.use('Agg')\n",
        "\n",
        "env = wrap_env(gym.make(\"Ant-v2\"))\n",
        "\n",
        "observation = env.reset()\n",
        "for i in range(10):\n",
        "    env.render(mode='rgb_array')\n",
        "    obs, rew, term, _ = env.step(env.action_space.sample() ) \n",
        "    if term:\n",
        "      break;\n",
        "            \n",
        "env.close()\n",
        "print('Loading video...')\n",
        "show_video()"
      ],
      "execution_count": null,
      "outputs": []
    },
    {
      "cell_type": "markdown",
      "metadata": {
        "id": "QizpiHDh9Fwk"
      },
      "source": [
        "## Editing Code\n",
        "\n",
        "To edit code, click the folder icon on the left menu. Navigate to the corresponding file (`cs285_f2020/...`). Double click a file to open an editor. There is a timeout of about ~12 hours with Colab while it is active (and less if you close your browser window). We sync your edits to Google Drive so that you won't lose your work in the event of an instance timeout, but you will need to re-mount your Google Drive and re-install packages with every new instance."
      ]
    },
    {
      "cell_type": "markdown",
      "metadata": {
        "id": "J_OxQ1AZSyXC"
      },
      "source": [
        "## Run Actor Critic"
      ]
    },
    {
      "cell_type": "code",
      "metadata": {
        "id": "IzuN647wT9iJ",
        "cellView": "both"
      },
      "source": [
        "#@title imports\n",
        "import os\n",
        "import time\n",
        "\n",
        "from cs285.agents.ac_agent import ACAgent\n",
        "from cs285.infrastructure.rl_trainer import RL_Trainer\n",
        "\n",
        "%load_ext autoreload\n",
        "%autoreload 2"
      ],
      "execution_count": null,
      "outputs": []
    },
    {
      "cell_type": "code",
      "metadata": {
        "id": "PQ9qWQu7TNb9",
        "cellView": "both"
      },
      "source": [
        "#@title runtime arguments\n",
        "\n",
        "class ACArgs:\n",
        "\n",
        "  def __getitem__(self, key):\n",
        "    return getattr(self, key)\n",
        "\n",
        "  def __setitem__(self, key, val):\n",
        "    setattr(self, key, val)\n",
        "\n",
        "  def __contains__(self, key):\n",
        "    return hasattr(self, key)\n",
        "\n",
        "  env_name = 'CartPole-v0' #@param ['CartPole-v0', 'InvertedPendulum-v2', 'HalfCheetah-v2']\n",
        "  exp_name = 'q4_ac' #@param\n",
        "\n",
        "  ## PDF will tell you how to set ep_len\n",
        "  ## and discount for each environment\n",
        "  ep_len = 200 #@param {type: \"integer\"}\n",
        "\n",
        "  #@markdown batches and steps\n",
        "  batch_size = 1000 #@param {type: \"integer\"}\n",
        "  eval_batch_size =  400#@param {type: \"integer\"}\n",
        "\n",
        "  n_iter = 100 #@param {type: \"integer\"}\n",
        "  num_agent_train_steps_per_iter = 1 #@param {type: \"integer\"}\n",
        "  num_actor_updates_per_agent_update = 1 #@param {type: \"integer\"}\n",
        "  num_critic_updates_per_agent_update = 1 #@param {type: \"integer\"}\n",
        "  \n",
        "  #@markdown Actor-Critic parameters\n",
        "  discount =  0.9#@param {type: \"number\"}\n",
        "  learning_rate = 5e-3 #@param {type: \"number\"}\n",
        "  dont_standardize_advantages = False #@param {type: \"boolean\"}\n",
        "  num_target_updates = 10 #@param {type: \"integer\"}\n",
        "  num_grad_steps_per_target_update = 10 #@param {type: \"integer\"}\n",
        "  n_layers = 2 #@param {type: \"integer\"}\n",
        "  size = 64 #@param {type: \"integer\"}\n",
        "\n",
        "  #@markdown system\n",
        "  save_params = False #@param {type: \"boolean\"}\n",
        "  no_gpu = False #@param {type: \"boolean\"}\n",
        "  which_gpu = 0 #@param {type: \"integer\"}\n",
        "  seed = 1 #@param {type: \"integer\"}\n",
        "\n",
        "  #@markdown logging\n",
        "  ## default is to not log video so\n",
        "  ## that logs are small enough to be\n",
        "  ## uploaded to gradscope\n",
        "  video_log_freq =  -1#@param {type: \"integer\"}\n",
        "  scalar_log_freq = 10 #@param {type: \"integer\"}\n",
        "\n",
        "\n",
        "args = ACArgs()\n",
        "\n",
        "\n",
        "if args['video_log_freq'] > 0:\n",
        "  import warnings\n",
        "  warnings.warn(\n",
        "      '''\\nLogging videos will make eventfiles too'''\n",
        "      '''\\nlarge for the autograder. Set video_log_freq = -1'''\n",
        "      '''\\nfor the runs you intend to submit.''')"
      ],
      "execution_count": null,
      "outputs": []
    },
    {
      "cell_type": "code",
      "metadata": {
        "id": "wqUVP5E5S1z8",
        "cellView": "both"
      },
      "source": [
        "#@title Define AC trainer\n",
        "\n",
        "class AC_Trainer(object):\n",
        "\n",
        "    def __init__(self, params):\n",
        "\n",
        "        #####################\n",
        "        ## SET AGENT PARAMS\n",
        "        #####################\n",
        "\n",
        "        computation_graph_args = {\n",
        "            'n_layers': params['n_layers'],\n",
        "            'size': params['size'],\n",
        "            'learning_rate': params['learning_rate'],\n",
        "            'num_target_updates': params['num_target_updates'],\n",
        "            'num_grad_steps_per_target_update': params['num_grad_steps_per_target_update'],\n",
        "            }\n",
        "\n",
        "        estimate_advantage_args = {\n",
        "            'gamma': params['discount'],\n",
        "            'standardize_advantages': not(params['dont_standardize_advantages']),\n",
        "        }\n",
        "\n",
        "        train_args = {\n",
        "            'num_agent_train_steps_per_iter': params['num_agent_train_steps_per_iter'],\n",
        "            'num_critic_updates_per_agent_update': params['num_critic_updates_per_agent_update'],\n",
        "            'num_actor_updates_per_agent_update': params['num_actor_updates_per_agent_update'],\n",
        "        }\n",
        "\n",
        "        agent_params = {**computation_graph_args, **estimate_advantage_args, **train_args}\n",
        "\n",
        "        self.params = params\n",
        "        self.params['agent_class'] = ACAgent\n",
        "        self.params['agent_params'] = agent_params\n",
        "        self.params['train_batch_size'] = params['batch_size']\n",
        "        self.params['batch_size_initial'] = self.params['batch_size']\n",
        "        self.params['non_atari_colab_env'] = True\n",
        "\n",
        "        ################\n",
        "        ## RL TRAINER\n",
        "        ################\n",
        "\n",
        "        self.rl_trainer = RL_Trainer(self.params)\n",
        "\n",
        "    def run_training_loop(self):\n",
        "\n",
        "        self.rl_trainer.run_training_loop(\n",
        "            self.params['n_iter'],\n",
        "            collect_policy = self.rl_trainer.agent.actor,\n",
        "            eval_policy = self.rl_trainer.agent.actor,\n",
        "            )\n"
      ],
      "execution_count": null,
      "outputs": []
    },
    {
      "cell_type": "code",
      "metadata": {
        "id": "xuNw8N1jTg1p"
      },
      "source": [
        "#@title create directories for logging\n",
        "\n",
        "data_path = '''/content/cs285_f2020/''' \\\n",
        "        '''homework_fall2020/hw3/data'''\n",
        "\n",
        "if not (os.path.exists(data_path)):\n",
        "    os.makedirs(data_path)\n",
        "\n",
        "logdir = args.exp_name + '_' + args.env_name + '_' + time.strftime(\"%d-%m-%Y_%H-%M-%S\")\n",
        "logdir = os.path.join(data_path, logdir)\n",
        "args['logdir'] = logdir\n",
        "if not(os.path.exists(logdir)):\n",
        "    os.makedirs(logdir)\n",
        "\n",
        "print(\"LOGGING TO: \", logdir)"
      ],
      "execution_count": null,
      "outputs": []
    },
    {
      "cell_type": "code",
      "metadata": {
        "id": "_IGogH9YTt1y"
      },
      "source": [
        "#@title run training\n",
        "trainer = AC_Trainer(args)\n",
        "trainer.run_training_loop()"
      ],
      "execution_count": null,
      "outputs": []
    },
    {
      "cell_type": "code",
      "metadata": {
        "id": "LjhrgXnUTzyi"
      },
      "source": [
        "#@markdown You can visualize your runs with tensorboard from within the notebook\n",
        "\n",
        "## requires tensorflow==2.3.0\n",
        "# %load_ext tensorboard\n",
        "%tensorboard --logdir /content/cs285_f2020/homework_fall2020/hw3/data/"
      ],
      "execution_count": null,
      "outputs": []
    }
  ]
}